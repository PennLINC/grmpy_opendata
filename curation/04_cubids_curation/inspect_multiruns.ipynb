{
 "cells": [
  {
   "cell_type": "code",
   "execution_count": null,
   "metadata": {},
   "outputs": [],
   "source": [
    "from nilearn import plotting\n",
    "import os\n",
    "import pandas as pd\n",
    "import matplotlib.pyplot as plt\n",
    "import glob\n",
    "\n",
    "# Load the file list\n",
    "file = \"/cbica/projects/grmpy/code/curation/04_cubids_curation/v4/v4_inspect_multiruns.tsv\"\n",
    "df = pd.read_csv(file, sep='\\t')\n",
    "anat_inspect = df.loc[df[\"Modality\"] == \"anat\", \"file_path\"]\n",
    "\n",
    "\n",
    "for file in anat_inspect_inspect:\n",
    "    filename = os.path.basename(file)\n",
    "    title = f\"{filename}\"\n",
    "\n",
    "    # Generate the plot\n",
    "    display = plotting.plot_anat(\n",
    "        file,\n",
    "        title=title,\n",
    "        draw_cross=False,\n",
    "        annotate=True,\n",
    "        display_mode='z',\n",
    "        dim=-1,\n",
    "        cut_coords=[10, 20, 30, 40, 50, 60]\n",
    "    )\n",
    "\n",
    "    plt.show()  # Display the plot\n",
    "    display.close()  # Close the display object to free memory"
   ]
  }
 ],
 "metadata": {
  "language_info": {
   "name": "python"
  }
 },
 "nbformat": 4,
 "nbformat_minor": 2
}
